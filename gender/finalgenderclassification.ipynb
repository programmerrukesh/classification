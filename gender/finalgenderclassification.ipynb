{
 "cells": [
  {
   "cell_type": "code",
   "execution_count": 1,
   "metadata": {},
   "outputs": [],
   "source": [
    "import pandas as pd\n",
    "import numpy as np\n",
    "import os, cv2, random\n",
    "import matplotlib.pyplot as plt\n",
    "%matplotlib inline"
   ]
  },
  {
   "cell_type": "code",
   "execution_count": 2,
   "metadata": {},
   "outputs": [
    {
     "name": "stderr",
     "output_type": "stream",
     "text": [
      "Using TensorFlow backend.\n"
     ]
    }
   ],
   "source": [
    "from keras.models import Sequential\n",
    "from keras.layers import Input, Dropout, Flatten, Conv2D, MaxPooling2D, Dense, Activation\n",
    "from keras.optimizers import RMSprop\n",
    "from keras.utils import np_utils"
   ]
  },
  {
   "cell_type": "code",
   "execution_count": 3,
   "metadata": {},
   "outputs": [
    {
     "data": {
      "text/html": [
       "<div>\n",
       "<style scoped>\n",
       "    .dataframe tbody tr th:only-of-type {\n",
       "        vertical-align: middle;\n",
       "    }\n",
       "\n",
       "    .dataframe tbody tr th {\n",
       "        vertical-align: top;\n",
       "    }\n",
       "\n",
       "    .dataframe thead th {\n",
       "        text-align: right;\n",
       "    }\n",
       "</style>\n",
       "<table border=\"1\" class=\"dataframe\">\n",
       "  <thead>\n",
       "    <tr style=\"text-align: right;\">\n",
       "      <th></th>\n",
       "      <th>Filename</th>\n",
       "      <th>Gender</th>\n",
       "    </tr>\n",
       "  </thead>\n",
       "  <tbody>\n",
       "    <tr>\n",
       "      <th>0</th>\n",
       "      <td>Raw_0001_001_20050913115022_Portrait.png</td>\n",
       "      <td>1</td>\n",
       "    </tr>\n",
       "    <tr>\n",
       "      <th>1</th>\n",
       "      <td>Raw_0002_002_20050913094354_Portrait.png</td>\n",
       "      <td>1</td>\n",
       "    </tr>\n",
       "    <tr>\n",
       "      <th>2</th>\n",
       "      <td>Raw_0003_003_20050913094955_Portrait.png</td>\n",
       "      <td>0</td>\n",
       "    </tr>\n",
       "    <tr>\n",
       "      <th>3</th>\n",
       "      <td>Raw_0005_004_20050913101316_Portrait.png</td>\n",
       "      <td>1</td>\n",
       "    </tr>\n",
       "    <tr>\n",
       "      <th>4</th>\n",
       "      <td>Raw_0007_005_20050913093707_Portrait.png</td>\n",
       "      <td>0</td>\n",
       "    </tr>\n",
       "  </tbody>\n",
       "</table>\n",
       "</div>"
      ],
      "text/plain": [
       "                                   Filename  Gender\n",
       "0  Raw_0001_001_20050913115022_Portrait.png       1\n",
       "1  Raw_0002_002_20050913094354_Portrait.png       1\n",
       "2  Raw_0003_003_20050913094955_Portrait.png       0\n",
       "3  Raw_0005_004_20050913101316_Portrait.png       1\n",
       "4  Raw_0007_005_20050913093707_Portrait.png       0"
      ]
     },
     "execution_count": 3,
     "metadata": {},
     "output_type": "execute_result"
    }
   ],
   "source": [
    "labels = pd.read_csv('results.csv')\n",
    "labels.head()"
   ]
  },
  {
   "cell_type": "code",
   "execution_count": 4,
   "metadata": {},
   "outputs": [
    {
     "data": {
      "text/html": [
       "<div>\n",
       "<style scoped>\n",
       "    .dataframe tbody tr th:only-of-type {\n",
       "        vertical-align: middle;\n",
       "    }\n",
       "\n",
       "    .dataframe tbody tr th {\n",
       "        vertical-align: top;\n",
       "    }\n",
       "\n",
       "    .dataframe thead th {\n",
       "        text-align: right;\n",
       "    }\n",
       "</style>\n",
       "<table border=\"1\" class=\"dataframe\">\n",
       "  <thead>\n",
       "    <tr style=\"text-align: right;\">\n",
       "      <th></th>\n",
       "      <th>Filename</th>\n",
       "      <th>Gender</th>\n",
       "    </tr>\n",
       "  </thead>\n",
       "  <tbody>\n",
       "    <tr>\n",
       "      <th>2</th>\n",
       "      <td>Raw_0003_003_20050913094955_Portrait.png</td>\n",
       "      <td>0</td>\n",
       "    </tr>\n",
       "    <tr>\n",
       "      <th>4</th>\n",
       "      <td>Raw_0007_005_20050913093707_Portrait.png</td>\n",
       "      <td>0</td>\n",
       "    </tr>\n",
       "    <tr>\n",
       "      <th>5</th>\n",
       "      <td>Raw_0009_006_20050913122608_Portrait.png</td>\n",
       "      <td>0</td>\n",
       "    </tr>\n",
       "    <tr>\n",
       "      <th>6</th>\n",
       "      <td>Raw_0010_007_20050913094809_Portrait.png</td>\n",
       "      <td>0</td>\n",
       "    </tr>\n",
       "    <tr>\n",
       "      <th>7</th>\n",
       "      <td>Raw_0011_008_20050913123954_Portrait.png</td>\n",
       "      <td>0</td>\n",
       "    </tr>\n",
       "  </tbody>\n",
       "</table>\n",
       "</div>"
      ],
      "text/plain": [
       "                                   Filename  Gender\n",
       "2  Raw_0003_003_20050913094955_Portrait.png       0\n",
       "4  Raw_0007_005_20050913093707_Portrait.png       0\n",
       "5  Raw_0009_006_20050913122608_Portrait.png       0\n",
       "6  Raw_0010_007_20050913094809_Portrait.png       0\n",
       "7  Raw_0011_008_20050913123954_Portrait.png       0"
      ]
     },
     "execution_count": 4,
     "metadata": {},
     "output_type": "execute_result"
    }
   ],
   "source": [
    "#separating model lables\n",
    "male_data = labels[labels['Gender'] == 0]\n",
    "male_data.head()"
   ]
  },
  {
   "cell_type": "code",
   "execution_count": 5,
   "metadata": {},
   "outputs": [],
   "source": [
    "#splitting male data into trin and test\n",
    "test_male_data = male_data.iloc[-3:,:]\n",
    "train_male_data = male_data.iloc[:-3,:]"
   ]
  },
  {
   "cell_type": "code",
   "execution_count": 6,
   "metadata": {},
   "outputs": [
    {
     "data": {
      "text/html": [
       "<div>\n",
       "<style scoped>\n",
       "    .dataframe tbody tr th:only-of-type {\n",
       "        vertical-align: middle;\n",
       "    }\n",
       "\n",
       "    .dataframe tbody tr th {\n",
       "        vertical-align: top;\n",
       "    }\n",
       "\n",
       "    .dataframe thead th {\n",
       "        text-align: right;\n",
       "    }\n",
       "</style>\n",
       "<table border=\"1\" class=\"dataframe\">\n",
       "  <thead>\n",
       "    <tr style=\"text-align: right;\">\n",
       "      <th></th>\n",
       "      <th>Filename</th>\n",
       "      <th>Gender</th>\n",
       "    </tr>\n",
       "  </thead>\n",
       "  <tbody>\n",
       "    <tr>\n",
       "      <th>0</th>\n",
       "      <td>Raw_0001_001_20050913115022_Portrait.png</td>\n",
       "      <td>1</td>\n",
       "    </tr>\n",
       "    <tr>\n",
       "      <th>1</th>\n",
       "      <td>Raw_0002_002_20050913094354_Portrait.png</td>\n",
       "      <td>1</td>\n",
       "    </tr>\n",
       "    <tr>\n",
       "      <th>3</th>\n",
       "      <td>Raw_0005_004_20050913101316_Portrait.png</td>\n",
       "      <td>1</td>\n",
       "    </tr>\n",
       "    <tr>\n",
       "      <th>9</th>\n",
       "      <td>Raw_0014_010_20050913093018_Portrait.png</td>\n",
       "      <td>1</td>\n",
       "    </tr>\n",
       "    <tr>\n",
       "      <th>22</th>\n",
       "      <td>Raw_0039_023_20050913110844_Portrait.png</td>\n",
       "      <td>1</td>\n",
       "    </tr>\n",
       "  </tbody>\n",
       "</table>\n",
       "</div>"
      ],
      "text/plain": [
       "                                    Filename  Gender\n",
       "0   Raw_0001_001_20050913115022_Portrait.png       1\n",
       "1   Raw_0002_002_20050913094354_Portrait.png       1\n",
       "3   Raw_0005_004_20050913101316_Portrait.png       1\n",
       "9   Raw_0014_010_20050913093018_Portrait.png       1\n",
       "22  Raw_0039_023_20050913110844_Portrait.png       1"
      ]
     },
     "execution_count": 6,
     "metadata": {},
     "output_type": "execute_result"
    }
   ],
   "source": [
    "#Separatinf females labels \n",
    "female_data = labels[labels['Gender'] ==1]\n",
    "female_data.head()"
   ]
  },
  {
   "cell_type": "code",
   "execution_count": 7,
   "metadata": {},
   "outputs": [],
   "source": [
    "#splitting female data into trin and test\n",
    "test_female_data = female_data.iloc[-3:,:]\n",
    "train_female_data = female_data.iloc[:-3,:]"
   ]
  },
  {
   "cell_type": "code",
   "execution_count": 8,
   "metadata": {},
   "outputs": [],
   "source": [
    "#total test data\n",
    "test_indices = test_female_data.index.tolist() + test_male_data.index.tolist()\n",
    "test_data = labels.iloc[test_indices,:]"
   ]
  },
  {
   "cell_type": "code",
   "execution_count": 9,
   "metadata": {},
   "outputs": [],
   "source": [
    "#total train data\n",
    "train_data = pd.concat([labels, test_data, test_data]).drop_duplicates(keep=False)"
   ]
  },
  {
   "cell_type": "code",
   "execution_count": 10,
   "metadata": {},
   "outputs": [
    {
     "data": {
      "text/html": [
       "<div>\n",
       "<style scoped>\n",
       "    .dataframe tbody tr th:only-of-type {\n",
       "        vertical-align: middle;\n",
       "    }\n",
       "\n",
       "    .dataframe tbody tr th {\n",
       "        vertical-align: top;\n",
       "    }\n",
       "\n",
       "    .dataframe thead th {\n",
       "        text-align: right;\n",
       "    }\n",
       "</style>\n",
       "<table border=\"1\" class=\"dataframe\">\n",
       "  <thead>\n",
       "    <tr style=\"text-align: right;\">\n",
       "      <th></th>\n",
       "      <th>Filename</th>\n",
       "      <th>Gender</th>\n",
       "    </tr>\n",
       "  </thead>\n",
       "  <tbody>\n",
       "    <tr>\n",
       "      <th>0</th>\n",
       "      <td>Raw_0001_001_20050913115022_Portrait.png</td>\n",
       "      <td>1</td>\n",
       "    </tr>\n",
       "    <tr>\n",
       "      <th>1</th>\n",
       "      <td>Raw_0002_002_20050913094354_Portrait.png</td>\n",
       "      <td>1</td>\n",
       "    </tr>\n",
       "    <tr>\n",
       "      <th>2</th>\n",
       "      <td>Raw_0003_003_20050913094955_Portrait.png</td>\n",
       "      <td>0</td>\n",
       "    </tr>\n",
       "    <tr>\n",
       "      <th>3</th>\n",
       "      <td>Raw_0005_004_20050913101316_Portrait.png</td>\n",
       "      <td>1</td>\n",
       "    </tr>\n",
       "    <tr>\n",
       "      <th>4</th>\n",
       "      <td>Raw_0007_005_20050913093707_Portrait.png</td>\n",
       "      <td>0</td>\n",
       "    </tr>\n",
       "    <tr>\n",
       "      <th>5</th>\n",
       "      <td>Raw_0009_006_20050913122608_Portrait.png</td>\n",
       "      <td>0</td>\n",
       "    </tr>\n",
       "    <tr>\n",
       "      <th>6</th>\n",
       "      <td>Raw_0010_007_20050913094809_Portrait.png</td>\n",
       "      <td>0</td>\n",
       "    </tr>\n",
       "    <tr>\n",
       "      <th>7</th>\n",
       "      <td>Raw_0011_008_20050913123954_Portrait.png</td>\n",
       "      <td>0</td>\n",
       "    </tr>\n",
       "    <tr>\n",
       "      <th>8</th>\n",
       "      <td>Raw_0012_009_20050913095944_Portrait.png</td>\n",
       "      <td>0</td>\n",
       "    </tr>\n",
       "    <tr>\n",
       "      <th>9</th>\n",
       "      <td>Raw_0014_010_20050913093018_Portrait.png</td>\n",
       "      <td>1</td>\n",
       "    </tr>\n",
       "    <tr>\n",
       "      <th>10</th>\n",
       "      <td>Raw_0016_011_20050913100034_Portrait.png</td>\n",
       "      <td>0</td>\n",
       "    </tr>\n",
       "    <tr>\n",
       "      <th>11</th>\n",
       "      <td>Raw_0018_012_20050913095525_Portrait.png</td>\n",
       "      <td>0</td>\n",
       "    </tr>\n",
       "    <tr>\n",
       "      <th>12</th>\n",
       "      <td>Raw_0020_013_20050913093233_Portrait.png</td>\n",
       "      <td>0</td>\n",
       "    </tr>\n",
       "    <tr>\n",
       "      <th>13</th>\n",
       "      <td>Raw_0022_014_20050913114822_Portrait.png</td>\n",
       "      <td>0</td>\n",
       "    </tr>\n",
       "    <tr>\n",
       "      <th>14</th>\n",
       "      <td>Raw_0023_015_20050913101603_Portrait.png</td>\n",
       "      <td>0</td>\n",
       "    </tr>\n",
       "    <tr>\n",
       "      <th>15</th>\n",
       "      <td>Raw_0025_016_20050913094632_Portrait.png</td>\n",
       "      <td>0</td>\n",
       "    </tr>\n",
       "    <tr>\n",
       "      <th>16</th>\n",
       "      <td>Raw_0027_017_20050913100705_Portrait.png</td>\n",
       "      <td>0</td>\n",
       "    </tr>\n",
       "    <tr>\n",
       "      <th>17</th>\n",
       "      <td>Raw_0029_018_20050913100926_Portrait.png</td>\n",
       "      <td>0</td>\n",
       "    </tr>\n",
       "    <tr>\n",
       "      <th>18</th>\n",
       "      <td>Raw_0031_019_20050913101347_Portrait.png</td>\n",
       "      <td>0</td>\n",
       "    </tr>\n",
       "    <tr>\n",
       "      <th>19</th>\n",
       "      <td>Raw_0033_020_20050913110105_Portrait.png</td>\n",
       "      <td>0</td>\n",
       "    </tr>\n",
       "    <tr>\n",
       "      <th>20</th>\n",
       "      <td>Raw_0035_021_20050913093054_Portrait.png</td>\n",
       "      <td>0</td>\n",
       "    </tr>\n",
       "    <tr>\n",
       "      <th>21</th>\n",
       "      <td>Raw_0037_022_20050913100304_Portrait.png</td>\n",
       "      <td>0</td>\n",
       "    </tr>\n",
       "    <tr>\n",
       "      <th>22</th>\n",
       "      <td>Raw_0039_023_20050913110844_Portrait.png</td>\n",
       "      <td>1</td>\n",
       "    </tr>\n",
       "    <tr>\n",
       "      <th>23</th>\n",
       "      <td>Raw_0041_024_20050913101837_Portrait.png</td>\n",
       "      <td>0</td>\n",
       "    </tr>\n",
       "    <tr>\n",
       "      <th>24</th>\n",
       "      <td>Raw_0043_025_20050913092857_Portrait.png</td>\n",
       "      <td>1</td>\n",
       "    </tr>\n",
       "    <tr>\n",
       "      <th>25</th>\n",
       "      <td>Raw_0046_026_20050913094903_Portrait.png</td>\n",
       "      <td>1</td>\n",
       "    </tr>\n",
       "    <tr>\n",
       "      <th>26</th>\n",
       "      <td>Raw_0048_027_20050913095902_Portrait.png</td>\n",
       "      <td>0</td>\n",
       "    </tr>\n",
       "    <tr>\n",
       "      <th>27</th>\n",
       "      <td>Raw_0050_028_20050913093318_Portrait.png</td>\n",
       "      <td>0</td>\n",
       "    </tr>\n",
       "    <tr>\n",
       "      <th>28</th>\n",
       "      <td>Raw_0052_029_20050913112608_Portrait.png</td>\n",
       "      <td>0</td>\n",
       "    </tr>\n",
       "    <tr>\n",
       "      <th>29</th>\n",
       "      <td>Raw_0054_030_20050913110426_Portrait.png</td>\n",
       "      <td>1</td>\n",
       "    </tr>\n",
       "    <tr>\n",
       "      <th>...</th>\n",
       "      <td>...</td>\n",
       "      <td>...</td>\n",
       "    </tr>\n",
       "    <tr>\n",
       "      <th>80</th>\n",
       "      <td>Raw_0153_080_20050913101156_Portrait.png</td>\n",
       "      <td>0</td>\n",
       "    </tr>\n",
       "    <tr>\n",
       "      <th>81</th>\n",
       "      <td>Raw_0155_081_20050913101022_Portrait.png</td>\n",
       "      <td>0</td>\n",
       "    </tr>\n",
       "    <tr>\n",
       "      <th>82</th>\n",
       "      <td>Raw_0157_082_20050913093804_Portrait.png</td>\n",
       "      <td>0</td>\n",
       "    </tr>\n",
       "    <tr>\n",
       "      <th>83</th>\n",
       "      <td>Raw_0159_083_20050913095819_Portrait.png</td>\n",
       "      <td>0</td>\n",
       "    </tr>\n",
       "    <tr>\n",
       "      <th>84</th>\n",
       "      <td>Raw_0161_084_20050913093615_Portrait.png</td>\n",
       "      <td>0</td>\n",
       "    </tr>\n",
       "    <tr>\n",
       "      <th>85</th>\n",
       "      <td>Raw_0163_085_20050913121259_Portrait.png</td>\n",
       "      <td>0</td>\n",
       "    </tr>\n",
       "    <tr>\n",
       "      <th>86</th>\n",
       "      <td>Raw_0164_086_20050913094030_Portrait.png</td>\n",
       "      <td>0</td>\n",
       "    </tr>\n",
       "    <tr>\n",
       "      <th>87</th>\n",
       "      <td>Raw_0166_087_20050913114905_Portrait.png</td>\n",
       "      <td>1</td>\n",
       "    </tr>\n",
       "    <tr>\n",
       "      <th>88</th>\n",
       "      <td>Raw_0167_088_20050913120358_Portrait.png</td>\n",
       "      <td>0</td>\n",
       "    </tr>\n",
       "    <tr>\n",
       "      <th>89</th>\n",
       "      <td>Raw_0169_089_20050913114616_Portrait.png</td>\n",
       "      <td>0</td>\n",
       "    </tr>\n",
       "    <tr>\n",
       "      <th>90</th>\n",
       "      <td>Raw_0173_091_20050913111053_Portrait.png</td>\n",
       "      <td>1</td>\n",
       "    </tr>\n",
       "    <tr>\n",
       "      <th>91</th>\n",
       "      <td>Raw_0175_092_20050913100355_Portrait.png</td>\n",
       "      <td>1</td>\n",
       "    </tr>\n",
       "    <tr>\n",
       "      <th>92</th>\n",
       "      <td>Raw_0177_093_20050913110014_Portrait.png</td>\n",
       "      <td>1</td>\n",
       "    </tr>\n",
       "    <tr>\n",
       "      <th>93</th>\n",
       "      <td>Raw_0179_094_20050913095613_Portrait.png</td>\n",
       "      <td>1</td>\n",
       "    </tr>\n",
       "    <tr>\n",
       "      <th>94</th>\n",
       "      <td>Raw_0181_095_20050912204422_Portrait.png</td>\n",
       "      <td>0</td>\n",
       "    </tr>\n",
       "    <tr>\n",
       "      <th>95</th>\n",
       "      <td>Raw_0246_096_20050912173029_Portrait.png</td>\n",
       "      <td>1</td>\n",
       "    </tr>\n",
       "    <tr>\n",
       "      <th>96</th>\n",
       "      <td>Raw_0333_097_20050912173728_Portrait.png</td>\n",
       "      <td>0</td>\n",
       "    </tr>\n",
       "    <tr>\n",
       "      <th>97</th>\n",
       "      <td>Raw_0356_098_20050913172749_Portrait.png</td>\n",
       "      <td>1</td>\n",
       "    </tr>\n",
       "    <tr>\n",
       "      <th>98</th>\n",
       "      <td>Raw_0358_099_20050912175103_Portrait.png</td>\n",
       "      <td>0</td>\n",
       "    </tr>\n",
       "    <tr>\n",
       "      <th>99</th>\n",
       "      <td>Raw_0385_100_20050912175151_Portrait.png</td>\n",
       "      <td>1</td>\n",
       "    </tr>\n",
       "    <tr>\n",
       "      <th>101</th>\n",
       "      <td>Raw_0538_102_20050913185253_Portrait.png</td>\n",
       "      <td>0</td>\n",
       "    </tr>\n",
       "    <tr>\n",
       "      <th>102</th>\n",
       "      <td>Raw_0539_103_20050912173229_Portrait.png</td>\n",
       "      <td>0</td>\n",
       "    </tr>\n",
       "    <tr>\n",
       "      <th>103</th>\n",
       "      <td>Raw_0584_104_20050912173428_Portrait.png</td>\n",
       "      <td>0</td>\n",
       "    </tr>\n",
       "    <tr>\n",
       "      <th>104</th>\n",
       "      <td>Raw_0645_108_20050912204750_Portrait.png</td>\n",
       "      <td>0</td>\n",
       "    </tr>\n",
       "    <tr>\n",
       "      <th>105</th>\n",
       "      <td>Raw_0647_107_20050913155224_Portrait.png</td>\n",
       "      <td>0</td>\n",
       "    </tr>\n",
       "    <tr>\n",
       "      <th>106</th>\n",
       "      <td>Raw_0695_109_20050912174416_Portrait.png</td>\n",
       "      <td>0</td>\n",
       "    </tr>\n",
       "    <tr>\n",
       "      <th>107</th>\n",
       "      <td>Raw_0768_110_20050912173601_Portrait.png</td>\n",
       "      <td>0</td>\n",
       "    </tr>\n",
       "    <tr>\n",
       "      <th>109</th>\n",
       "      <td>Raw_0880_112_20050913155156_Portrait.png</td>\n",
       "      <td>0</td>\n",
       "    </tr>\n",
       "    <tr>\n",
       "      <th>110</th>\n",
       "      <td>Raw_0907_113_20050912172937_Portrait.png</td>\n",
       "      <td>0</td>\n",
       "    </tr>\n",
       "    <tr>\n",
       "      <th>112</th>\n",
       "      <td>Raw_0985_115_20050912172818_Portrait.png</td>\n",
       "      <td>0</td>\n",
       "    </tr>\n",
       "  </tbody>\n",
       "</table>\n",
       "<p>110 rows × 2 columns</p>\n",
       "</div>"
      ],
      "text/plain": [
       "                                     Filename  Gender\n",
       "0    Raw_0001_001_20050913115022_Portrait.png       1\n",
       "1    Raw_0002_002_20050913094354_Portrait.png       1\n",
       "2    Raw_0003_003_20050913094955_Portrait.png       0\n",
       "3    Raw_0005_004_20050913101316_Portrait.png       1\n",
       "4    Raw_0007_005_20050913093707_Portrait.png       0\n",
       "5    Raw_0009_006_20050913122608_Portrait.png       0\n",
       "6    Raw_0010_007_20050913094809_Portrait.png       0\n",
       "7    Raw_0011_008_20050913123954_Portrait.png       0\n",
       "8    Raw_0012_009_20050913095944_Portrait.png       0\n",
       "9    Raw_0014_010_20050913093018_Portrait.png       1\n",
       "10   Raw_0016_011_20050913100034_Portrait.png       0\n",
       "11   Raw_0018_012_20050913095525_Portrait.png       0\n",
       "12   Raw_0020_013_20050913093233_Portrait.png       0\n",
       "13   Raw_0022_014_20050913114822_Portrait.png       0\n",
       "14   Raw_0023_015_20050913101603_Portrait.png       0\n",
       "15   Raw_0025_016_20050913094632_Portrait.png       0\n",
       "16   Raw_0027_017_20050913100705_Portrait.png       0\n",
       "17   Raw_0029_018_20050913100926_Portrait.png       0\n",
       "18   Raw_0031_019_20050913101347_Portrait.png       0\n",
       "19   Raw_0033_020_20050913110105_Portrait.png       0\n",
       "20   Raw_0035_021_20050913093054_Portrait.png       0\n",
       "21   Raw_0037_022_20050913100304_Portrait.png       0\n",
       "22   Raw_0039_023_20050913110844_Portrait.png       1\n",
       "23   Raw_0041_024_20050913101837_Portrait.png       0\n",
       "24   Raw_0043_025_20050913092857_Portrait.png       1\n",
       "25   Raw_0046_026_20050913094903_Portrait.png       1\n",
       "26   Raw_0048_027_20050913095902_Portrait.png       0\n",
       "27   Raw_0050_028_20050913093318_Portrait.png       0\n",
       "28   Raw_0052_029_20050913112608_Portrait.png       0\n",
       "29   Raw_0054_030_20050913110426_Portrait.png       1\n",
       "..                                        ...     ...\n",
       "80   Raw_0153_080_20050913101156_Portrait.png       0\n",
       "81   Raw_0155_081_20050913101022_Portrait.png       0\n",
       "82   Raw_0157_082_20050913093804_Portrait.png       0\n",
       "83   Raw_0159_083_20050913095819_Portrait.png       0\n",
       "84   Raw_0161_084_20050913093615_Portrait.png       0\n",
       "85   Raw_0163_085_20050913121259_Portrait.png       0\n",
       "86   Raw_0164_086_20050913094030_Portrait.png       0\n",
       "87   Raw_0166_087_20050913114905_Portrait.png       1\n",
       "88   Raw_0167_088_20050913120358_Portrait.png       0\n",
       "89   Raw_0169_089_20050913114616_Portrait.png       0\n",
       "90   Raw_0173_091_20050913111053_Portrait.png       1\n",
       "91   Raw_0175_092_20050913100355_Portrait.png       1\n",
       "92   Raw_0177_093_20050913110014_Portrait.png       1\n",
       "93   Raw_0179_094_20050913095613_Portrait.png       1\n",
       "94   Raw_0181_095_20050912204422_Portrait.png       0\n",
       "95   Raw_0246_096_20050912173029_Portrait.png       1\n",
       "96   Raw_0333_097_20050912173728_Portrait.png       0\n",
       "97   Raw_0356_098_20050913172749_Portrait.png       1\n",
       "98   Raw_0358_099_20050912175103_Portrait.png       0\n",
       "99   Raw_0385_100_20050912175151_Portrait.png       1\n",
       "101  Raw_0538_102_20050913185253_Portrait.png       0\n",
       "102  Raw_0539_103_20050912173229_Portrait.png       0\n",
       "103  Raw_0584_104_20050912173428_Portrait.png       0\n",
       "104  Raw_0645_108_20050912204750_Portrait.png       0\n",
       "105  Raw_0647_107_20050913155224_Portrait.png       0\n",
       "106  Raw_0695_109_20050912174416_Portrait.png       0\n",
       "107  Raw_0768_110_20050912173601_Portrait.png       0\n",
       "109  Raw_0880_112_20050913155156_Portrait.png       0\n",
       "110  Raw_0907_113_20050912172937_Portrait.png       0\n",
       "112  Raw_0985_115_20050912172818_Portrait.png       0\n",
       "\n",
       "[110 rows x 2 columns]"
      ]
     },
     "execution_count": 10,
     "metadata": {},
     "output_type": "execute_result"
    }
   ],
   "source": [
    "train_data"
   ]
  },
  {
   "cell_type": "code",
   "execution_count": 11,
   "metadata": {},
   "outputs": [],
   "source": [
    "path = '/home/rukesh/Documents/classification/gender/'"
   ]
  },
  {
   "cell_type": "code",
   "execution_count": 12,
   "metadata": {},
   "outputs": [],
   "source": [
    "training_data_filename_list = train_data['Filename'].values.tolist()\n",
    "testing_data_filename_list = test_data['Filename'].values.tolist()\n",
    "train_image_name = []\n",
    "test_image_name = []\n",
    "path = path + 'final/'\n",
    "for file in training_data_filename_list:\n",
    "    train_image_name.append(path+file)\n",
    "for file in testing_data_filename_list:\n",
    "    test_image_name.append(path+file)"
   ]
  },
  {
   "cell_type": "code",
   "execution_count": 13,
   "metadata": {},
   "outputs": [
    {
     "data": {
      "text/plain": [
       "'/home/rukesh/Documents/classification/gender/final/Raw_0001_001_20050913115022_Portrait.png'"
      ]
     },
     "execution_count": 13,
     "metadata": {},
     "output_type": "execute_result"
    }
   ],
   "source": [
    "train_image_name[0]"
   ]
  },
  {
   "cell_type": "code",
   "execution_count": 14,
   "metadata": {},
   "outputs": [],
   "source": [
    "# preparing data by processing images using opencv\n",
    "ROWS = 64\n",
    "COLS = 64\n",
    "CHANNELS = 3\n",
    "\n",
    "def read_image(file_path):\n",
    "    img = cv2.imread(file_path, cv2.IMREAD_COLOR) #cv2.IMREAD_GRAYSCALE\n",
    "    return cv2.resize(img, (ROWS, COLS), interpolation=cv2.INTER_CUBIC)\n",
    "\n",
    "\n",
    "def prep_data(images):\n",
    "    count = len(images)\n",
    "    data = np.ndarray((count,ROWS, COLS,CHANNELS), dtype=np.uint8)\n",
    "\n",
    "    for i, image_file in enumerate(images):\n",
    "        image = read_image(image_file)\n",
    "        data[i] = image\n",
    "    return data\n",
    "\n",
    "train = prep_data(train_image_name)\n",
    "test = prep_data(test_image_name)"
   ]
  },
  {
   "cell_type": "code",
   "execution_count": 15,
   "metadata": {},
   "outputs": [
    {
     "name": "stdout",
     "output_type": "stream",
     "text": [
      "(110, 64, 64, 3)\n"
     ]
    }
   ],
   "source": [
    "print(train.shape)"
   ]
  },
  {
   "cell_type": "code",
   "execution_count": 16,
   "metadata": {},
   "outputs": [
    {
     "name": "stdout",
     "output_type": "stream",
     "text": [
      "WARNING:tensorflow:From /home/rukesh/.local/lib/python2.7/site-packages/keras/backend/tensorflow_backend.py:4070: The name tf.nn.max_pool is deprecated. Please use tf.nn.max_pool2d instead.\n",
      "\n"
     ]
    },
    {
     "name": "stderr",
     "output_type": "stream",
     "text": [
      "/home/rukesh/.local/lib/python2.7/site-packages/ipykernel_launcher.py:4: UserWarning: Update your `Conv2D` call to the Keras 2 API: `Conv2D(32, (3, 3), padding=\"same\", activation=\"relu\", input_shape=(64, 64, 3...)`\n",
      "  after removing the cwd from sys.path.\n",
      "/home/rukesh/.local/lib/python2.7/site-packages/ipykernel_launcher.py:5: UserWarning: Update your `Conv2D` call to the Keras 2 API: `Conv2D(32, (3, 3), padding=\"same\", activation=\"relu\")`\n",
      "  \"\"\"\n",
      "/home/rukesh/.local/lib/python2.7/site-packages/ipykernel_launcher.py:8: UserWarning: Update your `Conv2D` call to the Keras 2 API: `Conv2D(64, (3, 3), padding=\"same\", activation=\"relu\")`\n",
      "  \n",
      "/home/rukesh/.local/lib/python2.7/site-packages/ipykernel_launcher.py:9: UserWarning: Update your `Conv2D` call to the Keras 2 API: `Conv2D(64, (3, 3), padding=\"same\", activation=\"relu\")`\n",
      "  if __name__ == '__main__':\n",
      "/home/rukesh/.local/lib/python2.7/site-packages/ipykernel_launcher.py:12: UserWarning: Update your `Conv2D` call to the Keras 2 API: `Conv2D(128, (3, 3), padding=\"same\", activation=\"relu\")`\n",
      "  if sys.path[0] == '':\n",
      "/home/rukesh/.local/lib/python2.7/site-packages/ipykernel_launcher.py:13: UserWarning: Update your `Conv2D` call to the Keras 2 API: `Conv2D(128, (3, 3), padding=\"same\", activation=\"relu\")`\n",
      "  del sys.path[0]\n",
      "/home/rukesh/.local/lib/python2.7/site-packages/ipykernel_launcher.py:16: UserWarning: Update your `Conv2D` call to the Keras 2 API: `Conv2D(256, (3, 3), padding=\"same\", activation=\"relu\")`\n",
      "  app.launch_new_instance()\n",
      "/home/rukesh/.local/lib/python2.7/site-packages/ipykernel_launcher.py:17: UserWarning: Update your `Conv2D` call to the Keras 2 API: `Conv2D(256, (3, 3), padding=\"same\", activation=\"relu\")`\n"
     ]
    },
    {
     "name": "stdout",
     "output_type": "stream",
     "text": [
      "WARNING:tensorflow:From /home/rukesh/.local/lib/python2.7/site-packages/tensorflow/python/ops/nn_impl.py:180: where (from tensorflow.python.ops.array_ops) is deprecated and will be removed in a future version.\n",
      "Instructions for updating:\n",
      "Use tf.where in 2.0, which has the same broadcast rule as np.where\n"
     ]
    }
   ],
   "source": [
    "optimizer = RMSprop(lr=1e-4)\n",
    "model = Sequential()\n",
    "\n",
    "model.add(Conv2D(32, 3, 3, border_mode='same', input_shape=(ROWS, COLS,3), activation='relu'))\n",
    "model.add(Conv2D(32, 3, 3, border_mode='same', activation='relu'))\n",
    "model.add(MaxPooling2D(pool_size=(2, 2)))\n",
    "\n",
    "model.add(Conv2D(64, 3, 3, border_mode='same', activation='relu'))\n",
    "model.add(Conv2D(64, 3, 3, border_mode='same', activation='relu'))\n",
    "model.add(MaxPooling2D(pool_size=(2, 2)))\n",
    "\n",
    "model.add(Conv2D(128, 3, 3, border_mode='same', activation='relu'))\n",
    "model.add(Conv2D(128, 3, 3, border_mode='same', activation='relu'))\n",
    "model.add(MaxPooling2D(pool_size=(2, 2)))\n",
    "\n",
    "model.add(Conv2D(256, 3, 3, border_mode='same', activation='relu'))\n",
    "model.add(Conv2D(256, 3, 3, border_mode='same', activation='relu'))\n",
    "model.add(MaxPooling2D(pool_size=(2, 2)))\n",
    "\n",
    "\n",
    "\n",
    "model.add(Flatten())\n",
    "model.add(Dense(256, activation='relu'))\n",
    "model.add(Dropout(0.5))\n",
    "\n",
    "model.add(Dense(256, activation='relu'))\n",
    "model.add(Dropout(0.5))\n",
    "\n",
    "model.add(Dense(1))\n",
    "model.add(Activation('sigmoid'))\n",
    "\n",
    "model.compile(loss='binary_crossentropy', optimizer=optimizer, metrics=['accuracy'])"
   ]
  },
  {
   "cell_type": "code",
   "execution_count": 17,
   "metadata": {},
   "outputs": [
    {
     "name": "stdout",
     "output_type": "stream",
     "text": [
      "Model: \"sequential_1\"\n",
      "_________________________________________________________________\n",
      "Layer (type)                 Output Shape              Param #   \n",
      "=================================================================\n",
      "conv2d_1 (Conv2D)            (None, 64, 64, 32)        896       \n",
      "_________________________________________________________________\n",
      "conv2d_2 (Conv2D)            (None, 64, 64, 32)        9248      \n",
      "_________________________________________________________________\n",
      "max_pooling2d_1 (MaxPooling2 (None, 32, 32, 32)        0         \n",
      "_________________________________________________________________\n",
      "conv2d_3 (Conv2D)            (None, 32, 32, 64)        18496     \n",
      "_________________________________________________________________\n",
      "conv2d_4 (Conv2D)            (None, 32, 32, 64)        36928     \n",
      "_________________________________________________________________\n",
      "max_pooling2d_2 (MaxPooling2 (None, 16, 16, 64)        0         \n",
      "_________________________________________________________________\n",
      "conv2d_5 (Conv2D)            (None, 16, 16, 128)       73856     \n",
      "_________________________________________________________________\n",
      "conv2d_6 (Conv2D)            (None, 16, 16, 128)       147584    \n",
      "_________________________________________________________________\n",
      "max_pooling2d_3 (MaxPooling2 (None, 8, 8, 128)         0         \n",
      "_________________________________________________________________\n",
      "conv2d_7 (Conv2D)            (None, 8, 8, 256)         295168    \n",
      "_________________________________________________________________\n",
      "conv2d_8 (Conv2D)            (None, 8, 8, 256)         590080    \n",
      "_________________________________________________________________\n",
      "max_pooling2d_4 (MaxPooling2 (None, 4, 4, 256)         0         \n",
      "_________________________________________________________________\n",
      "flatten_1 (Flatten)          (None, 4096)              0         \n",
      "_________________________________________________________________\n",
      "dense_1 (Dense)              (None, 256)               1048832   \n",
      "_________________________________________________________________\n",
      "dropout_1 (Dropout)          (None, 256)               0         \n",
      "_________________________________________________________________\n",
      "dense_2 (Dense)              (None, 256)               65792     \n",
      "_________________________________________________________________\n",
      "dropout_2 (Dropout)          (None, 256)               0         \n",
      "_________________________________________________________________\n",
      "dense_3 (Dense)              (None, 1)                 257       \n",
      "_________________________________________________________________\n",
      "activation_1 (Activation)    (None, 1)                 0         \n",
      "=================================================================\n",
      "Total params: 2,287,137\n",
      "Trainable params: 2,287,137\n",
      "Non-trainable params: 0\n",
      "_________________________________________________________________\n"
     ]
    }
   ],
   "source": [
    "model.summary()"
   ]
  },
  {
   "cell_type": "code",
   "execution_count": 18,
   "metadata": {},
   "outputs": [
    {
     "name": "stdout",
     "output_type": "stream",
     "text": [
      "WARNING:tensorflow:From /home/rukesh/.local/lib/python2.7/site-packages/keras/backend/tensorflow_backend.py:422: The name tf.global_variables is deprecated. Please use tf.compat.v1.global_variables instead.\n",
      "\n",
      "Train on 82 samples, validate on 28 samples\n",
      "Epoch 1/20\n",
      "82/82 [==============================] - 2s 20ms/step - loss: 1.6855 - accuracy: 0.6098 - val_loss: 0.5628 - val_accuracy: 0.7143\n",
      "Epoch 2/20\n",
      "82/82 [==============================] - 1s 13ms/step - loss: 0.9860 - accuracy: 0.6463 - val_loss: 0.5913 - val_accuracy: 0.7143\n",
      "Epoch 3/20\n",
      "82/82 [==============================] - 1s 14ms/step - loss: 0.7773 - accuracy: 0.6829 - val_loss: 0.5869 - val_accuracy: 0.7143\n",
      "Epoch 4/20\n",
      "82/82 [==============================] - 1s 14ms/step - loss: 0.6590 - accuracy: 0.6341 - val_loss: 0.5375 - val_accuracy: 0.7143\n",
      "Epoch 5/20\n",
      "82/82 [==============================] - 1s 14ms/step - loss: 0.5454 - accuracy: 0.7073 - val_loss: 0.8186 - val_accuracy: 0.7143\n",
      "Epoch 6/20\n",
      "82/82 [==============================] - 1s 14ms/step - loss: 0.5711 - accuracy: 0.7561 - val_loss: 0.5179 - val_accuracy: 0.7143\n",
      "Epoch 7/20\n",
      "82/82 [==============================] - 1s 14ms/step - loss: 0.6034 - accuracy: 0.6951 - val_loss: 0.5764 - val_accuracy: 0.7143\n",
      "Epoch 8/20\n",
      "82/82 [==============================] - 1s 13ms/step - loss: 0.5622 - accuracy: 0.7195 - val_loss: 0.6131 - val_accuracy: 0.6786\n",
      "Epoch 9/20\n",
      "82/82 [==============================] - 1s 14ms/step - loss: 0.5294 - accuracy: 0.7805 - val_loss: 0.5819 - val_accuracy: 0.7143\n",
      "Epoch 10/20\n",
      "82/82 [==============================] - 1s 14ms/step - loss: 0.4969 - accuracy: 0.7439 - val_loss: 0.5081 - val_accuracy: 0.8571\n",
      "Epoch 11/20\n",
      "82/82 [==============================] - 1s 14ms/step - loss: 0.4294 - accuracy: 0.8171 - val_loss: 0.5185 - val_accuracy: 0.7143\n",
      "Epoch 12/20\n",
      "82/82 [==============================] - 1s 14ms/step - loss: 0.4650 - accuracy: 0.8171 - val_loss: 0.4383 - val_accuracy: 0.8214\n",
      "Epoch 13/20\n",
      "82/82 [==============================] - 1s 14ms/step - loss: 0.3391 - accuracy: 0.8659 - val_loss: 0.5172 - val_accuracy: 0.7500\n",
      "Epoch 14/20\n",
      "82/82 [==============================] - 1s 14ms/step - loss: 0.6562 - accuracy: 0.7805 - val_loss: 0.5238 - val_accuracy: 0.7500\n",
      "Epoch 15/20\n",
      "82/82 [==============================] - 1s 14ms/step - loss: 0.3487 - accuracy: 0.8415 - val_loss: 0.4425 - val_accuracy: 0.7857\n",
      "Epoch 16/20\n",
      "82/82 [==============================] - 1s 14ms/step - loss: 0.3605 - accuracy: 0.8780 - val_loss: 0.3849 - val_accuracy: 0.8571\n",
      "Epoch 17/20\n",
      "82/82 [==============================] - 1s 14ms/step - loss: 0.5176 - accuracy: 0.7561 - val_loss: 0.4262 - val_accuracy: 0.8571\n",
      "Epoch 18/20\n",
      "82/82 [==============================] - 1s 14ms/step - loss: 0.3559 - accuracy: 0.8293 - val_loss: 0.3932 - val_accuracy: 0.8214\n",
      "Epoch 19/20\n",
      "82/82 [==============================] - 1s 15ms/step - loss: 0.3042 - accuracy: 0.8780 - val_loss: 0.4257 - val_accuracy: 0.7857\n",
      "Epoch 20/20\n",
      "82/82 [==============================] - 1s 14ms/step - loss: 0.2814 - accuracy: 0.9024 - val_loss: 0.4253 - val_accuracy: 0.7500\n"
     ]
    },
    {
     "data": {
      "text/plain": [
       "<keras.callbacks.callbacks.History at 0x7f076e863a10>"
      ]
     },
     "execution_count": 18,
     "metadata": {},
     "output_type": "execute_result"
    }
   ],
   "source": [
    "labels = train_data.iloc[:,1].values.tolist()\n",
    "model.fit(train, labels, batch_size=32, epochs=20,\n",
    "              validation_split=0.25, verbose=1, shuffle=True)"
   ]
  },
  {
   "cell_type": "code",
   "execution_count": 20,
   "metadata": {},
   "outputs": [
    {
     "data": {
      "text/plain": [
       "array([[0.8201473 ],\n",
       "       [0.77094   ],\n",
       "       [0.6223547 ],\n",
       "       [0.42783827],\n",
       "       [0.52725834],\n",
       "       [0.04552036]], dtype=float32)"
      ]
     },
     "execution_count": 20,
     "metadata": {},
     "output_type": "execute_result"
    }
   ],
   "source": [
    "predictions = model.predict(test)\n",
    "predictions"
   ]
  },
  {
   "cell_type": "code",
   "execution_count": 21,
   "metadata": {},
   "outputs": [
    {
     "name": "stdout",
     "output_type": "stream",
     "text": [
      "I am 82.01% sure this is a Female\n"
     ]
    },
    {
     "data": {
      "image/png": "[encoded data removed]",
      "text/plain": [
       "<Figure size 432x288 with 1 Axes>"
      ]
     },
     "metadata": {
      "needs_background": "light"
     },
     "output_type": "display_data"
    },
    {
     "name": "stdout",
     "output_type": "stream",
     "text": [
      "I am 77.09% sure this is a Female\n"
     ]
    },
    {
     "data": {
      "image/png": "[encoded data removed]",
      "text/plain": [
       "<Figure size 432x288 with 1 Axes>"
      ]
     },
     "metadata": {
      "needs_background": "light"
     },
     "output_type": "display_data"
    },
    {
     "name": "stdout",
     "output_type": "stream",
     "text": [
      "I am 62.24% sure this is a Female\n"
     ]
    },
    {
     "data": {
      "image/png": "[encoded data removed]",
      "text/plain": [
       "<Figure size 432x288 with 1 Axes>"
      ]
     },
     "metadata": {
      "needs_background": "light"
     },
     "output_type": "display_data"
    },
    {
     "name": "stdout",
     "output_type": "stream",
     "text": [
      "I am 57.22% sure this is a Male\n"
     ]
    },
    {
     "data": {
      "image/png": "[encoded data removed]",
      "text/plain": [
       "<Figure size 432x288 with 1 Axes>"
      ]
     },
     "metadata": {
      "needs_background": "light"
     },
     "output_type": "display_data"
    },
    {
     "name": "stdout",
     "output_type": "stream",
     "text": [
      "I am 52.73% sure this is a Female\n"
     ]
    },
    {
     "data": {
      "image/png": "[encoded data removed]",
      "text/plain": [
       "<Figure size 432x288 with 1 Axes>"
      ]
     },
     "metadata": {
      "needs_background": "light"
     },
     "output_type": "display_data"
    },
    {
     "name": "stdout",
     "output_type": "stream",
     "text": [
      "I am 95.45% sure this is a Male\n"
     ]
    },
    {
     "data": {
      "image/png": "[encoded data removed]",
      "text/plain": [
       "<Figure size 432x288 with 1 Axes>"
      ]
     },
     "metadata": {
      "needs_background": "light"
     },
     "output_type": "display_data"
    }
   ],
   "source": [
    "for i in range(0,6):\n",
    "    if predictions[i, 0] >= 0.5: \n",
    "        print('I am {:.2%} sure this is a Female'.format(predictions[i][0]))\n",
    "    else: \n",
    "        print('I am {:.2%} sure this is a Male'.format(1-predictions[i][0]))\n",
    "        \n",
    "    plt.imshow(test[i])\n",
    "    plt.show()"
   ]
  },
  {
   "cell_type": "code",
   "execution_count": null,
   "metadata": {},
   "outputs": [],
   "source": [
    "model.save('classification.h5')"
   ]
  },
  {
   "cell_type": "code",
   "execution_count": null,
   "metadata": {},
   "outputs": [],
   "source": []
  }
 ],
 "metadata": {
  "kernelspec": {
   "display_name": "Python 2",
   "language": "python",
   "name": "python2"
  },
  "language_info": {
   "codemirror_mode": {
    "name": "ipython",
    "version": 2
   },
   "file_extension": ".py",
   "mimetype": "text/x-python",
   "name": "python",
   "nbconvert_exporter": "python",
   "pygments_lexer": "ipython2",
   "version": "2.7.17"
  }
 },
 "nbformat": 4,
 "nbformat_minor": 2
}
